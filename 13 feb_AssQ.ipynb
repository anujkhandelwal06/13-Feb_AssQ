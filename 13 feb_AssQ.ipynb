{
 "cells": [
  {
   "cell_type": "code",
   "execution_count": 1,
   "id": "9abf0bea-96b2-4301-a9ff-1fef4a8383b9",
   "metadata": {},
   "outputs": [
    {
     "data": {
      "text/plain": [
       "'Q1. Explain why we have to use the Exception class while creating a Custom Exception.\\nNote: Here Exception class refers to the base class for all the exceptions.'"
      ]
     },
     "execution_count": 1,
     "metadata": {},
     "output_type": "execute_result"
    }
   ],
   "source": [
    "\"\"\"Q1. Explain why we have to use the Exception class while creating a Custom Exception.\n",
    "Note: Here Exception class refers to the base class for all the exceptions.\"\"\""
   ]
  },
  {
   "cell_type": "code",
   "execution_count": 2,
   "id": "3226bd50-227e-4497-bb8a-4d184a815fe4",
   "metadata": {},
   "outputs": [],
   "source": [
    "#When creating a custom exception in Python, it is recommended to inherit from the built-in \"Exception\" class,\n",
    "#which is the base class for all the exceptions in Python.Here are some reasons why:\n",
    "\n",
    "#1.Consistency: Using the Exception class as the base class for your custom exception ensures consistency with other built-in exceptions.\n",
    "# This consistency makes it easier for other developers to understand and use your custom exception.\n",
    "\n",
    "#2.Easy to Handle: Python provides several built-in mechanisms for handling exceptions, such as \"try-except\" blocks.\n",
    "# When you inherit from the 'Exception' class, you automatically get access to these mechanisms, making it easier to handle your custom exception.\n",
    "\n",
    "#3.Robustness: The 'Exception' class provides a robust implementation of all the methods and attributes that an exception should have.\n",
    "# By inheriting from the 'Exception' class, you get access to this implementation without having to write it yourself.\n",
    "\n",
    "#4.Future-proofing: By inheriting from the 'Exception' class, your custom exception is more likely to remain compatible with future versions of Python, \n",
    "# as any changes to the implementation of the 'Exception' class will automatically apply to your custom exception."
   ]
  },
  {
   "cell_type": "code",
   "execution_count": 3,
   "id": "0faa1588-2674-4e5e-91e7-faf52b90dcef",
   "metadata": {},
   "outputs": [
    {
     "data": {
      "text/plain": [
       "'Q2. Write a python program to print Python Exception Hierarchy.'"
      ]
     },
     "execution_count": 3,
     "metadata": {},
     "output_type": "execute_result"
    }
   ],
   "source": [
    "\"\"\"Q2. Write a python program to print Python Exception Hierarchy.\"\"\""
   ]
  },
  {
   "cell_type": "code",
   "execution_count": 7,
   "id": "e20d5db4-da96-488b-9760-f096dc43ae28",
   "metadata": {},
   "outputs": [],
   "source": [
    "import logging\n",
    "    \n",
    "def print_exception_hierarchy():\n",
    "    logging.basicConfig(level=logging.INFO)\n",
    "    logger = logging.getlogger(__name__)\n",
    "    \n",
    "    # loop through all the bulit-in exception classes\n",
    "    for cls in BaseException.__subclasses__():\n",
    "        logger.info(f\"{cls__name__}: {cls.__doc__}\")\n",
    "        try:\n",
    "            #Raise the exception to demonstrate its demonstrate its behaviour\n",
    "            raise cls(\"Example of\" + cls. __name__)\n",
    "        except cls as e:\n",
    "            logger.exception(f\" {type(e). __name__}: {e}\\n\")"
   ]
  },
  {
   "cell_type": "code",
   "execution_count": 9,
   "id": "c5cebf9a-4137-4fa7-802e-ed15b3d863db",
   "metadata": {},
   "outputs": [
    {
     "data": {
      "text/plain": [
       "'Q3. What errors are defined in the ArithmeticError class? Explain any two with an example.'"
      ]
     },
     "execution_count": 9,
     "metadata": {},
     "output_type": "execute_result"
    }
   ],
   "source": [
    "\"\"\"Q3. What errors are defined in the ArithmeticError class? Explain any two with an example.\"\"\""
   ]
  },
  {
   "cell_type": "code",
   "execution_count": 11,
   "id": "a32e60ea-4401-4262-b01f-378b13f346b7",
   "metadata": {},
   "outputs": [
    {
     "ename": "ZeroDivisionError",
     "evalue": "division by zero",
     "output_type": "error",
     "traceback": [
      "\u001b[0;31m---------------------------------------------------------------------------\u001b[0m",
      "\u001b[0;31mZeroDivisionError\u001b[0m                         Traceback (most recent call last)",
      "Cell \u001b[0;32mIn[11], line 8\u001b[0m\n\u001b[1;32m      6\u001b[0m x \u001b[38;5;241m=\u001b[39m \u001b[38;5;241m10\u001b[39m\n\u001b[1;32m      7\u001b[0m y \u001b[38;5;241m=\u001b[39m \u001b[38;5;241m0\u001b[39m\n\u001b[0;32m----> 8\u001b[0m z \u001b[38;5;241m=\u001b[39m \u001b[43mx\u001b[49m\u001b[38;5;241;43m/\u001b[39;49m\u001b[43my\u001b[49m\n\u001b[1;32m     10\u001b[0m \u001b[38;5;66;03m#In this case, the division 'x / y' will raise a ZeroDivisionError since you are attempting to divide 'x' by 'y', which has a value of 0.\u001b[39;00m\n\u001b[1;32m     11\u001b[0m \n\u001b[1;32m     12\u001b[0m \n\u001b[1;32m     13\u001b[0m \u001b[38;5;66;03m#2.'OverflowError': This error is raised when a mathematical operation exceeds the maximum limit of a numeric data type.\u001b[39;00m\n\u001b[1;32m     15\u001b[0m x \u001b[38;5;241m=\u001b[39m \u001b[38;5;241m2\u001b[39m \u001b[38;5;241m*\u001b[39m\u001b[38;5;241m*\u001b[39m \u001b[38;5;241m1000\u001b[39m\n",
      "\u001b[0;31mZeroDivisionError\u001b[0m: division by zero"
     ]
    }
   ],
   "source": [
    "#The 'ArithmeticError' class is a built-in class in Python that serves as the base class for all errors that occur during arithmetic calculations\n",
    "#It is a subclass of the 'Exception' class and is raised when an error occurs during mathematical operations such as division. \n",
    "\n",
    "#1.'ZeroDivisionError': This error is raised when you attempt to divide a number by zero.\n",
    "\n",
    "x = 10\n",
    "y = 0\n",
    "z = x/y\n",
    "\n",
    "#In this case, the division 'x / y' will raise a ZeroDivisionError since you are attempting to divide 'x' by 'y', which has a value of 0."
   ]
  },
  {
   "cell_type": "code",
   "execution_count": 12,
   "id": "0b03e538-c495-4435-a117-ed37642c81c4",
   "metadata": {},
   "outputs": [],
   "source": [
    "#2.'OverflowError': This error is raised when a mathematical operation exceeds the maximum limit of a numeric data type.\n",
    "\n",
    "x = 2 ** 1000\n",
    "y = x ** 1000\n",
    "\n",
    "#In this case, the value of 'x' is a very large number, and when you raise it to the power of 1000,\n",
    "#the result exceeds the maximum value that can be represented by the numeric data type. This will result in an 'OverflowError'."
   ]
  },
  {
   "cell_type": "code",
   "execution_count": 13,
   "id": "14897e33-f328-456f-a0ea-333b7cf3c15b",
   "metadata": {},
   "outputs": [
    {
     "data": {
      "text/plain": [
       "'Q4. Why LookupError class is used? Explain with an example KeyError and IndexError.'"
      ]
     },
     "execution_count": 13,
     "metadata": {},
     "output_type": "execute_result"
    }
   ],
   "source": [
    "\"\"\"Q4. Why LookupError class is used? Explain with an example KeyError and IndexError.\"\"\""
   ]
  },
  {
   "cell_type": "code",
   "execution_count": 14,
   "id": "4ed6bd97-943f-48dd-a281-cc3c03e113e6",
   "metadata": {},
   "outputs": [
    {
     "ename": "KeyError",
     "evalue": "'mango'",
     "output_type": "error",
     "traceback": [
      "\u001b[0;31m---------------------------------------------------------------------------\u001b[0m",
      "\u001b[0;31mKeyError\u001b[0m                                  Traceback (most recent call last)",
      "Cell \u001b[0;32mIn[14], line 9\u001b[0m\n\u001b[1;32m      1\u001b[0m \u001b[38;5;66;03m# The 'LookupError' class is a built-in Python exception class that serves as a base class for all lookup-related errors\u001b[39;00m\n\u001b[1;32m      2\u001b[0m \u001b[38;5;66;03m# This class is mainly used when we encounter errors related to searching, indexing, or retrieving elements from a collection or a data structure.\u001b[39;00m\n\u001b[1;32m      3\u001b[0m \u001b[38;5;66;03m# The 'LookupError' class is an abstract class and cannot be directly instantiated, but it provides a common ancestor for two concrete exception classes, \u001b[39;00m\n\u001b[1;32m      4\u001b[0m \u001b[38;5;66;03m# namely 'KeyError' and 'IndexError'.\u001b[39;00m\n\u001b[1;32m      5\u001b[0m \n\u001b[1;32m      6\u001b[0m \u001b[38;5;66;03m#1.'KeyError' is a subclass of 'LookupError' that occurs when we try to access a non-existent key in a dictionary.\u001b[39;00m\n\u001b[1;32m      8\u001b[0m my_dict \u001b[38;5;241m=\u001b[39m {\u001b[38;5;124m'\u001b[39m\u001b[38;5;124mapple\u001b[39m\u001b[38;5;124m'\u001b[39m: \u001b[38;5;241m3\u001b[39m, \u001b[38;5;124m'\u001b[39m\u001b[38;5;124mbanana\u001b[39m\u001b[38;5;124m'\u001b[39m: \u001b[38;5;241m5\u001b[39m, \u001b[38;5;124m'\u001b[39m\u001b[38;5;124morange\u001b[39m\u001b[38;5;124m'\u001b[39m: \u001b[38;5;241m2\u001b[39m}\n\u001b[0;32m----> 9\u001b[0m \u001b[38;5;28mprint\u001b[39m(\u001b[43mmy_dict\u001b[49m\u001b[43m[\u001b[49m\u001b[38;5;124;43m'\u001b[39;49m\u001b[38;5;124;43mmango\u001b[39;49m\u001b[38;5;124;43m'\u001b[39;49m\u001b[43m]\u001b[49m)\n",
      "\u001b[0;31mKeyError\u001b[0m: 'mango'"
     ]
    }
   ],
   "source": [
    "# The 'LookupError' class is a built-in Python exception class that serves as a base class for all lookup-related errors\n",
    "# This class is mainly used when we encounter errors related to searching, indexing, or retrieving elements from a collection or a data structure.\n",
    "# The 'LookupError' class is an abstract class and cannot be directly instantiated, but it provides a common ancestor for two concrete exception classes, \n",
    "# namely 'KeyError' and 'IndexError'.\n",
    "\n",
    "#1.'KeyError':It is a subclass of 'LookupError' that occurs when we try to access a non-existent key in a dictionary.\n",
    "\n",
    "my_dict = {'apple': 3, 'banana': 5, 'orange': 2}\n",
    "print(my_dict['mango'])"
   ]
  },
  {
   "cell_type": "code",
   "execution_count": 16,
   "id": "5bcb1e12-c976-4631-838f-82b05f344cc1",
   "metadata": {},
   "outputs": [
    {
     "ename": "IndexError",
     "evalue": "list index out of range",
     "output_type": "error",
     "traceback": [
      "\u001b[0;31m---------------------------------------------------------------------------\u001b[0m",
      "\u001b[0;31mIndexError\u001b[0m                                Traceback (most recent call last)",
      "Cell \u001b[0;32mIn[16], line 4\u001b[0m\n\u001b[1;32m      1\u001b[0m \u001b[38;5;66;03m#2.'IndexError':It is another subclass of LookupError that occurs when we try to access an invalid index in a sequence like a list or a tuple. \u001b[39;00m\n\u001b[1;32m      3\u001b[0m my_list \u001b[38;5;241m=\u001b[39m [\u001b[38;5;241m1\u001b[39m, \u001b[38;5;241m2\u001b[39m, \u001b[38;5;241m3\u001b[39m, \u001b[38;5;241m4\u001b[39m, \u001b[38;5;241m5\u001b[39m]\n\u001b[0;32m----> 4\u001b[0m \u001b[38;5;28mprint\u001b[39m(\u001b[43mmy_list\u001b[49m\u001b[43m[\u001b[49m\u001b[38;5;241;43m10\u001b[39;49m\u001b[43m]\u001b[49m)\n\u001b[1;32m      6\u001b[0m \u001b[38;5;66;03m#the LookupError class is used as a base class for all lookup-related errors in Python, and two of its subclasses, KeyError and IndexError,\u001b[39;00m\n\u001b[1;32m      7\u001b[0m \u001b[38;5;66;03m#are used to handle specific lookup errors that occur when trying to access non-existent keys in a dictionary or invalid indexes in a sequence, respectively.\u001b[39;00m\n",
      "\u001b[0;31mIndexError\u001b[0m: list index out of range"
     ]
    }
   ],
   "source": [
    "#2.'IndexError':It is another subclass of LookupError that occurs when we try to access an invalid index in a sequence like a list or a tuple. \n",
    "\n",
    "my_list = [1, 2, 3, 4, 5]\n",
    "print(my_list[10])\n",
    "\n",
    "#the LookupError class is used as a base class for all lookup-related errors in Python, and two of its subclasses, KeyError and IndexError,\n",
    "#are used to handle specific lookup errors that occur when trying to access non-existent keys in a dictionary or invalid indexes in a sequence, respectively.\n"
   ]
  },
  {
   "cell_type": "code",
   "execution_count": 17,
   "id": "5b8dfcfa-cb5c-4486-a7d4-c369b82938c1",
   "metadata": {},
   "outputs": [
    {
     "data": {
      "text/plain": [
       "'Q5. Explain ImportError. What is ModuleNotFoundError?'"
      ]
     },
     "execution_count": 17,
     "metadata": {},
     "output_type": "execute_result"
    }
   ],
   "source": [
    "\"\"\"Q5. Explain ImportError. What is ModuleNotFoundError?\"\"\""
   ]
  },
  {
   "cell_type": "code",
   "execution_count": 20,
   "id": "fd4d667d-ee9a-4935-91d2-d95ee002026b",
   "metadata": {},
   "outputs": [
    {
     "ename": "SyntaxError",
     "evalue": "invalid syntax (1818620127.py, line 6)",
     "output_type": "error",
     "traceback": [
      "\u001b[0;36m  Cell \u001b[0;32mIn[20], line 6\u001b[0;36m\u001b[0m\n\u001b[0;31m    ImportError: No module named 'mymodule'\u001b[0m\n\u001b[0m                    ^\u001b[0m\n\u001b[0;31mSyntaxError\u001b[0m\u001b[0;31m:\u001b[0m invalid syntax\n"
     ]
    }
   ],
   "source": [
    "#'ImportError' is an exception that occurs when Python is unable to import a module. \n",
    "# This can happen for a variety of reasons, such as the module not being installed, the\n",
    "# module being installed in the wrong location, or the module being outdated.\n",
    "\n",
    "import mymodule\n",
    "ImportError: No module named 'mymodule'\n",
    "\n",
    "#ModuleNotFoundError is a subclass of ImportError that was introduced in Python.\n",
    "#It is raised when a module is not found during the import process.\n",
    "#ModuleNotFoundError is more specific than ImportError, as it only applies to cases where the module cannot be found.\n",
    "\n"
   ]
  },
  {
   "cell_type": "code",
   "execution_count": 21,
   "id": "a8c4ba47-8f7b-4968-8918-b4c4d1e02163",
   "metadata": {},
   "outputs": [
    {
     "data": {
      "text/plain": [
       "'Q6. List down some best practices for exception handling in python.'"
      ]
     },
     "execution_count": 21,
     "metadata": {},
     "output_type": "execute_result"
    }
   ],
   "source": [
    "\"\"\"Q6. List down some best practices for exception handling in python.\"\"\""
   ]
  },
  {
   "cell_type": "code",
   "execution_count": 22,
   "id": "759855ad-60a2-4b57-96da-0235ac2e751d",
   "metadata": {},
   "outputs": [],
   "source": [
    "#You can write many execeptions in code to remember specific should be the upmost\n",
    "def test(file):\n",
    "  try :\n",
    "    with open(\"test.txt\",'r') as f:\n",
    "     test = f.read()\n",
    "  except Exception as e: \n",
    "   print(e)\n",
    "  except FileNotFoundError as e:\n",
    "    print(e)"
   ]
  },
  {
   "cell_type": "code",
   "execution_count": 23,
   "id": "a6619ba7-d8f9-4f3d-bec0-70d29448ea7f",
   "metadata": {},
   "outputs": [
    {
     "name": "stdout",
     "output_type": "stream",
     "text": [
      "division by zero\n"
     ]
    }
   ],
   "source": [
    "# Always Use a Specific Exception\n",
    "\n",
    "try :\n",
    "  10/0             # taking convection wise the code is not proper \n",
    "except Exception as e:\n",
    "  print(e)"
   ]
  },
  {
   "cell_type": "code",
   "execution_count": 24,
   "id": "d281cb45-43dd-4d55-acdd-18ee98fb77a0",
   "metadata": {},
   "outputs": [
    {
     "name": "stdout",
     "output_type": "stream",
     "text": [
      "i am handling a zerodivision error\n"
     ]
    }
   ],
   "source": [
    "#print always proper message:\n",
    "\n",
    "try:\n",
    "  10/0\n",
    "except ZeroDivisionError as e:\n",
    "  print(\"i am handling a zerodivision error\")"
   ]
  },
  {
   "cell_type": "code",
   "execution_count": null,
   "id": "f3270525-bc95-425f-a460-e10c869b836e",
   "metadata": {},
   "outputs": [],
   "source": [
    "#Always log your error\n",
    "\n",
    "import logging\n",
    "logging.basicConfig(filename =\"error.log\",level=logging.ERROR)\n",
    "try:\n",
    "  10/0\n",
    "except ZeroDivisionError as e:\n",
    "  logging.error(\"i am handling a zerodivision error\".format(e))"
   ]
  }
 ],
 "metadata": {
  "kernelspec": {
   "display_name": "Python 3 (ipykernel)",
   "language": "python",
   "name": "python3"
  },
  "language_info": {
   "codemirror_mode": {
    "name": "ipython",
    "version": 3
   },
   "file_extension": ".py",
   "mimetype": "text/x-python",
   "name": "python",
   "nbconvert_exporter": "python",
   "pygments_lexer": "ipython3",
   "version": "3.10.8"
  }
 },
 "nbformat": 4,
 "nbformat_minor": 5
}
